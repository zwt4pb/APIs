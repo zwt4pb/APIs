{
  "nbformat": 4,
  "nbformat_minor": 0,
  "metadata": {
    "colab": {
      "provenance": [],
      "authorship_tag": "ABX9TyOI3fQ/gTnsNeOMSz4cX1o1",
      "include_colab_link": true
    },
    "kernelspec": {
      "name": "python3",
      "display_name": "Python 3"
    },
    "language_info": {
      "name": "python"
    }
  },
  "cells": [
    {
      "cell_type": "markdown",
      "metadata": {
        "id": "view-in-github",
        "colab_type": "text"
      },
      "source": [
        "<a href=\"https://colab.research.google.com/github/zwt4pb/APIs/blob/main/Joe_Thompson_API_Cals_HW.ipynb\" target=\"_parent\"><img src=\"https://colab.research.google.com/assets/colab-badge.svg\" alt=\"Open In Colab\"/></a>"
      ]
    },
    {
      "cell_type": "code",
      "source": [
        "import requests\n",
        "import pandas as pd\n",
        "import json\n",
        "\n",
        "def get_country_info(country):\n",
        "    url = f\"https://restcountries.com/v3.1/name/{country}\"\n",
        "    response = requests.get(url)\n",
        "    if response.status_code == 200:\n",
        "        data = response.json()\n",
        "        if data:\n",
        "            country_data = data[0]\n",
        "            capital = country_data.get(\"capital\", \"N/A\")\n",
        "            population = country_data.get(\"population\", \"N/A\")\n",
        "            return capital, population\n",
        "        else:\n",
        "            return None, None\n",
        "    else:\n",
        "        return None, None\n",
        "\n",
        "def main():\n",
        "    countries_info = []\n",
        "    country = input(\"Enter a country name: \").strip().lower()\n",
        "    capital, population = get_country_info(country)\n",
        "    if capital != None and population != None:\n",
        "            print(f\"The capital is {capital}\")\n",
        "            print(f\"The population is {population} people.\")\n",
        "            countries_info.append({\"Country\": country.capitalize(), \"Capital\": capital, \"Population\": population})\n",
        "    else:\n",
        "            print(\"The country you have entered cannot be found in the list.\")\n",
        "\n",
        "    if countries_info:\n",
        "        df = pd.DataFrame(countries_info)\n",
        "        with open(\"countries_info.json\", \"a\") as file:\n",
        "            df.to_json(file, orient=\"records\", lines=True)\n",
        "            print(\"Country information saved to 'countries_info.json'.\")\n",
        "\n",
        "if __name__ == \"__main__\":\n",
        "    main()"
      ],
      "metadata": {
        "colab": {
          "base_uri": "https://localhost:8080/"
        },
        "id": "C0ii2Swhc6CG",
        "outputId": "6b3d53f5-e620-49b0-acc2-0155b6d98997"
      },
      "execution_count": 29,
      "outputs": [
        {
          "output_type": "stream",
          "name": "stdout",
          "text": [
            "Enter a country name: Isle of Man\n",
            "The capital is ['Douglas']\n",
            "The population is 85032 people.\n",
            "Country information saved to 'countries_info.json'.\n"
          ]
        }
      ]
    }
  ]
}